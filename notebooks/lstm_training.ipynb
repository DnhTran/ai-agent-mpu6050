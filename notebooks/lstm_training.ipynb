{
 "cells": [
  {
   "cell_type": "code",
   "execution_count": 12,
   "metadata": {},
   "outputs": [
    {
     "name": "stdout",
     "output_type": "stream",
     "text": [
      "Đã chuyển đổi cột 'accel_x' sang kiểu số. Số lượng NaN sau chuyển đổi: 3\n",
      "Đã chuyển đổi cột 'accel_y' sang kiểu số. Số lượng NaN sau chuyển đổi: 3\n",
      "Đã chuyển đổi cột 'accel_z' sang kiểu số. Số lượng NaN sau chuyển đổi: 3\n",
      "Đã chuyển đổi cột 'gyro_x' sang kiểu số. Số lượng NaN sau chuyển đổi: 3\n",
      "Đã chuyển đổi cột 'gyro_y' sang kiểu số. Số lượng NaN sau chuyển đổi: 3\n",
      "Đã chuyển đổi cột 'gyro_z' sang kiểu số. Số lượng NaN sau chuyển đổi: 3\n",
      "\n",
      "Kiểu dữ liệu của sensor_data sau chuyển đổi và ép kiểu:\n",
      "accel_x    float64\n",
      "accel_y    float64\n",
      "accel_z    float64\n",
      "gyro_x     float64\n",
      "gyro_y     float64\n",
      "gyro_z     float64\n",
      "dtype: object\n",
      "\n",
      "5 dòng đầu tiên của sensor_data sau chuyển đổi và ép kiểu:\n",
      "    accel_x   accel_y    accel_z     gyro_x     gyro_y     gyro_z\n",
      "0 -1.027113 -1.462857   9.442731   4.450382   0.297710 -12.229008\n",
      "1 -0.007183 -1.398214   9.897630   4.694656   3.847328  -9.396947\n",
      "2 -0.792481 -1.364695  10.012551  -2.984733   5.801527   2.038168\n",
      "3 -0.727837 -1.249773   9.952696 -10.610687  12.541985  16.282443\n",
      "4 -1.910573 -0.964863   9.425972 -16.297710  12.083969  17.534351\n",
      "\n",
      "Số lượng hàng trước khi loại bỏ NaN: 9756\n",
      "Số lượng hàng sau khi loại bỏ NaN: 9753\n",
      "\n",
      "5 dòng đầu tiên của DataFrame đã chuẩn hóa (scaled_df):\n",
      "    accel_x   accel_y   accel_z    gyro_x    gyro_y    gyro_z  \\\n",
      "0  0.473823  0.462736  0.740734  0.508904  0.500603  0.475563   \n",
      "1  0.499825  0.464384  0.752331  0.509392  0.507698  0.481224   \n",
      "2  0.479805  0.465238  0.755261  0.494041  0.511604  0.504082   \n",
      "3  0.481453  0.468168  0.753735  0.478798  0.525078  0.532555   \n",
      "4  0.451301  0.475432  0.740307  0.467430  0.524163  0.535058   \n",
      "\n",
      "            timestamp             label  \n",
      "0  1747152132.3870165  STRONG VIBRATION  \n",
      "1  1747152132.4430487  STRONG VIBRATION  \n",
      "2   1747152132.499087  STRONG VIBRATION  \n",
      "3  1747152132.5550847  STRONG VIBRATION  \n",
      "4  1747152132.6110804  STRONG VIBRATION  \n",
      "\n",
      "Hoàn thành quá trình chuẩn hóa và lưu (nếu có).\n"
     ]
    }
   ],
   "source": [
    "import pandas as pd\n",
    "from sklearn.preprocessing import MinMaxScaler\n",
    "\n",
    "# Đọc dữ liệu\n",
    "df = pd.read_csv('../data/sensor_data_labeled.csv')\n",
    "\n",
    "# Chọn các cột dữ liệu cảm biến\n",
    "sensor_cols = ['accel_x', 'accel_y', 'accel_z', 'gyro_x', 'gyro_y', 'gyro_z']\n",
    "sensor_data = df[sensor_cols].copy()\n",
    "\n",
    "# Chuyển đổi các cột dữ liệu cảm biến sang kiểu số (float)\n",
    "for col in sensor_cols:\n",
    "    sensor_data[col] = pd.to_numeric(sensor_data[col], errors='coerce')\n",
    "    print(f\"Đã chuyển đổi cột '{col}' sang kiểu số. Số lượng NaN sau chuyển đổi: {sensor_data[col].isnull().sum()}\")\n",
    "\n",
    "# Ép kiểu toàn bộ sensor_data DataFrame sang float64\n",
    "sensor_data = sensor_data.astype('float64')\n",
    "\n",
    "# Kiểm tra lại kiểu dữ liệu sau chuyển đổi và ép kiểu\n",
    "print(\"\\nKiểu dữ liệu của sensor_data sau chuyển đổi và ép kiểu:\")\n",
    "print(sensor_data.dtypes)\n",
    "print(\"\\n5 dòng đầu tiên của sensor_data sau chuyển đổi và ép kiểu:\")\n",
    "print(sensor_data.head())\n",
    "\n",
    "# Loại bỏ các hàng có giá trị NaN trong các cột cảm biến\n",
    "sensor_data_cleaned = sensor_data.dropna(subset=sensor_cols)\n",
    "print(f\"\\nSố lượng hàng trước khi loại bỏ NaN: {len(sensor_data)}\")\n",
    "print(f\"Số lượng hàng sau khi loại bỏ NaN: {len(sensor_data_cleaned)}\")\n",
    "\n",
    "# Khởi tạo MinMaxScaler\n",
    "scaler = MinMaxScaler()\n",
    "\n",
    "# Chuẩn hóa dữ liệu đã chuyển đổi và làm sạch\n",
    "scaled_data = scaler.fit_transform(sensor_data_cleaned)\n",
    "\n",
    "# Tạo DataFrame mới với dữ liệu đã chuẩn hóa\n",
    "scaled_df = pd.DataFrame(scaled_data, columns=sensor_data_cleaned.columns)\n",
    "\n",
    "# Thêm lại cột 'timestamp' và 'label'\n",
    "scaled_df['timestamp'] = df.loc[sensor_data_cleaned.index, 'timestamp'].values\n",
    "scaled_df['label'] = df.loc[sensor_data_cleaned.index, 'label'].values\n",
    "\n",
    "# Kiểm tra 5 dòng đầu của DataFrame đã chuẩn hóa\n",
    "print(\"\\n5 dòng đầu tiên của DataFrame đã chuẩn hóa (scaled_df):\")\n",
    "print(scaled_df.head())\n",
    "\n",
    "# Lưu dữ liệu đã chuẩn hóa (tùy chọn)\n",
    "scaled_df.to_csv('../data/sensor_data_scaled.csv', index=False)\n",
    "\n",
    "print(\"\\nHoàn thành quá trình chuẩn hóa và lưu (nếu có).\")"
   ]
  },
  {
   "cell_type": "code",
   "execution_count": 13,
   "metadata": {
    "scrolled": true,
    "vscode": {
     "languageId": "plaintext"
    }
   },
   "outputs": [
    {
     "name": "stdout",
     "output_type": "stream",
     "text": [
      "Kích thước của X (sau khi tạo windows): (9733, 20, 6)\n",
      "Kích thước của y_str (sau khi tạo windows): (9733,)\n"
     ]
    }
   ],
   "source": [
    "import numpy as np\n",
    "\n",
    "def create_sliding_windows(data, labels, window_size):\n",
    "    \"\"\"Tạo các sliding window từ dữ liệu.\"\"\"\n",
    "    windows = []\n",
    "    window_labels = []\n",
    "    for i in range(window_size, len(data)):\n",
    "        windows.append(data[i - window_size:i])\n",
    "        window_labels.append(labels[i - 1])  # Lấy nhãn của mẫu cuối cùng trong window\n",
    "    return np.array(windows), np.array(window_labels)\n",
    "\n",
    "WINDOW_SIZE = 20  # Kích thước cửa sổ (tùy chỉnh)\n",
    "\n",
    "# Lấy dữ liệu cảm biến đã chuẩn hóa và nhãn\n",
    "scaled_sensor_values = scaled_df[['accel_x', 'accel_y', 'accel_z', 'gyro_x', 'gyro_y', 'gyro_z']].values\n",
    "labels = scaled_df['label'].values\n",
    "\n",
    "# Tạo sliding windows\n",
    "X, y_str = create_sliding_windows(scaled_sensor_values, labels, WINDOW_SIZE)\n",
    "\n",
    "print(\"Kích thước của X (sau khi tạo windows):\", X.shape)\n",
    "print(\"Kích thước của y_str (sau khi tạo windows):\", y_str.shape)"
   ]
  },
  {
   "cell_type": "code",
   "execution_count": 14,
   "metadata": {},
   "outputs": [
    {
     "name": "stdout",
     "output_type": "stream",
     "text": [
      "Các nhãn sau khi chuyển sang số: [2 2 2 2 2]\n",
      "Các nhãn sau khi chuyển sang one-hot encoding:\n",
      " [[0. 0. 1.]\n",
      " [0. 0. 1.]\n",
      " [0. 0. 1.]\n",
      " [0. 0. 1.]\n",
      " [0. 0. 1.]]\n",
      "Các lớp nhãn (sau khi LabelEncoder fit): ['DANGEROUS TIPPING' 'STABLE' 'STRONG VIBRATION']\n"
     ]
    }
   ],
   "source": [
    "from sklearn.preprocessing import LabelEncoder\n",
    "from tensorflow.keras.utils import to_categorical\n",
    "\n",
    "# Khởi tạo LabelEncoder\n",
    "label_encoder = LabelEncoder()\n",
    "\n",
    "# Chuyển nhãn dạng chuỗi sang số\n",
    "integer_labels = label_encoder.fit_transform(y_str)\n",
    "\n",
    "# Chuyển nhãn số sang one-hot\n",
    "one_hot_labels = to_categorical(integer_labels)\n",
    "\n",
    "print(\"Các nhãn sau khi chuyển sang số:\", integer_labels[:5])\n",
    "print(\"Các nhãn sau khi chuyển sang one-hot encoding:\\n\", y_categorical[:5])\n",
    "print(\"Các lớp nhãn (sau khi LabelEncoder fit):\", label_encoder.classes_)"
   ]
  },
  {
   "cell_type": "code",
   "execution_count": 15,
   "metadata": {},
   "outputs": [
    {
     "name": "stdout",
     "output_type": "stream",
     "text": [
      "Kích thước tập huấn luyện (X_train): (7786, 20, 6)\n",
      "Kích thước tập kiểm tra (X_test): (1947, 20, 6)\n",
      "Kích thước nhãn huấn luyện (y_train): (7786, 3)\n",
      "Kích thước nhãn kiểm tra (y_test): (1947, 3)\n"
     ]
    }
   ],
   "source": [
    "from sklearn.model_selection import train_test_split\n",
    "\n",
    "# Chia dữ liệu (ví dụ: 80% cho huấn luyện, 20% cho kiểm tra)\n",
    "X_train, X_test, y_train, y_test = train_test_split(X, y_categorical, test_size=0.2, random_state=42, stratify=y_categorical)\n",
    "\n",
    "print(\"Kích thước tập huấn luyện (X_train):\", X_train.shape)\n",
    "print(\"Kích thước tập kiểm tra (X_test):\", X_test.shape)\n",
    "print(\"Kích thước nhãn huấn luyện (y_train):\", y_train.shape)\n",
    "print(\"Kích thước nhãn kiểm tra (y_test):\", y_test.shape)"
   ]
  },
  {
   "cell_type": "code",
   "execution_count": 16,
   "metadata": {},
   "outputs": [],
   "source": [
    "from sklearn.model_selection import train_test_split\n",
    "\n",
    "# Chia dữ liệu (ví dụ: 80% cho huấn luyện, 20% cho kiểm tra)\n",
    "X_train, X_test, y_train, y_test = train_test_split(X, one_hot_labels, test_size=0.2, random_state=42)\n",
    "X_train = np.array(X_train).astype('float32')\n",
    "X_test = np.array(X_test).astype('float32')\n",
    "y_train = np.array(y_train).astype('float32')\n",
    "y_test = np.array(y_test).astype('float32')\n"
   ]
  },
  {
   "cell_type": "code",
   "execution_count": 17,
   "metadata": {},
   "outputs": [
    {
     "name": "stderr",
     "output_type": "stream",
     "text": [
      "/home/NOISE/ai_agent_mpu6050/venv/lib/python3.11/site-packages/keras/src/layers/rnn/rnn.py:200: UserWarning: Do not pass an `input_shape`/`input_dim` argument to a layer. When using Sequential models, prefer using an `Input(shape)` object as the first layer in the model instead.\n",
      "  super().__init__(**kwargs)\n"
     ]
    },
    {
     "data": {
      "text/html": [
       "<pre style=\"white-space:pre;overflow-x:auto;line-height:normal;font-family:Menlo,'DejaVu Sans Mono',consolas,'Courier New',monospace\"><span style=\"font-weight: bold\">Model: \"sequential\"</span>\n",
       "</pre>\n"
      ],
      "text/plain": [
       "\u001b[1mModel: \"sequential\"\u001b[0m\n"
      ]
     },
     "metadata": {},
     "output_type": "display_data"
    },
    {
     "data": {
      "text/html": [
       "<pre style=\"white-space:pre;overflow-x:auto;line-height:normal;font-family:Menlo,'DejaVu Sans Mono',consolas,'Courier New',monospace\">┏━━━━━━━━━━━━━━━━━━━━━━━━━━━━━━━━━┳━━━━━━━━━━━━━━━━━━━━━━━━┳━━━━━━━━━━━━━━━┓\n",
       "┃<span style=\"font-weight: bold\"> Layer (type)                    </span>┃<span style=\"font-weight: bold\"> Output Shape           </span>┃<span style=\"font-weight: bold\">       Param # </span>┃\n",
       "┡━━━━━━━━━━━━━━━━━━━━━━━━━━━━━━━━━╇━━━━━━━━━━━━━━━━━━━━━━━━╇━━━━━━━━━━━━━━━┩\n",
       "│ lstm (<span style=\"color: #0087ff; text-decoration-color: #0087ff\">LSTM</span>)                     │ (<span style=\"color: #00d7ff; text-decoration-color: #00d7ff\">None</span>, <span style=\"color: #00af00; text-decoration-color: #00af00\">20</span>, <span style=\"color: #00af00; text-decoration-color: #00af00\">50</span>)         │        <span style=\"color: #00af00; text-decoration-color: #00af00\">11,400</span> │\n",
       "├─────────────────────────────────┼────────────────────────┼───────────────┤\n",
       "│ lstm_1 (<span style=\"color: #0087ff; text-decoration-color: #0087ff\">LSTM</span>)                   │ (<span style=\"color: #00d7ff; text-decoration-color: #00d7ff\">None</span>, <span style=\"color: #00af00; text-decoration-color: #00af00\">50</span>)             │        <span style=\"color: #00af00; text-decoration-color: #00af00\">20,200</span> │\n",
       "├─────────────────────────────────┼────────────────────────┼───────────────┤\n",
       "│ dense (<span style=\"color: #0087ff; text-decoration-color: #0087ff\">Dense</span>)                   │ (<span style=\"color: #00d7ff; text-decoration-color: #00d7ff\">None</span>, <span style=\"color: #00af00; text-decoration-color: #00af00\">3</span>)              │           <span style=\"color: #00af00; text-decoration-color: #00af00\">153</span> │\n",
       "└─────────────────────────────────┴────────────────────────┴───────────────┘\n",
       "</pre>\n"
      ],
      "text/plain": [
       "┏━━━━━━━━━━━━━━━━━━━━━━━━━━━━━━━━━┳━━━━━━━━━━━━━━━━━━━━━━━━┳━━━━━━━━━━━━━━━┓\n",
       "┃\u001b[1m \u001b[0m\u001b[1mLayer (type)                   \u001b[0m\u001b[1m \u001b[0m┃\u001b[1m \u001b[0m\u001b[1mOutput Shape          \u001b[0m\u001b[1m \u001b[0m┃\u001b[1m \u001b[0m\u001b[1m      Param #\u001b[0m\u001b[1m \u001b[0m┃\n",
       "┡━━━━━━━━━━━━━━━━━━━━━━━━━━━━━━━━━╇━━━━━━━━━━━━━━━━━━━━━━━━╇━━━━━━━━━━━━━━━┩\n",
       "│ lstm (\u001b[38;5;33mLSTM\u001b[0m)                     │ (\u001b[38;5;45mNone\u001b[0m, \u001b[38;5;34m20\u001b[0m, \u001b[38;5;34m50\u001b[0m)         │        \u001b[38;5;34m11,400\u001b[0m │\n",
       "├─────────────────────────────────┼────────────────────────┼───────────────┤\n",
       "│ lstm_1 (\u001b[38;5;33mLSTM\u001b[0m)                   │ (\u001b[38;5;45mNone\u001b[0m, \u001b[38;5;34m50\u001b[0m)             │        \u001b[38;5;34m20,200\u001b[0m │\n",
       "├─────────────────────────────────┼────────────────────────┼───────────────┤\n",
       "│ dense (\u001b[38;5;33mDense\u001b[0m)                   │ (\u001b[38;5;45mNone\u001b[0m, \u001b[38;5;34m3\u001b[0m)              │           \u001b[38;5;34m153\u001b[0m │\n",
       "└─────────────────────────────────┴────────────────────────┴───────────────┘\n"
      ]
     },
     "metadata": {},
     "output_type": "display_data"
    },
    {
     "data": {
      "text/html": [
       "<pre style=\"white-space:pre;overflow-x:auto;line-height:normal;font-family:Menlo,'DejaVu Sans Mono',consolas,'Courier New',monospace\"><span style=\"font-weight: bold\"> Total params: </span><span style=\"color: #00af00; text-decoration-color: #00af00\">31,753</span> (124.04 KB)\n",
       "</pre>\n"
      ],
      "text/plain": [
       "\u001b[1m Total params: \u001b[0m\u001b[38;5;34m31,753\u001b[0m (124.04 KB)\n"
      ]
     },
     "metadata": {},
     "output_type": "display_data"
    },
    {
     "data": {
      "text/html": [
       "<pre style=\"white-space:pre;overflow-x:auto;line-height:normal;font-family:Menlo,'DejaVu Sans Mono',consolas,'Courier New',monospace\"><span style=\"font-weight: bold\"> Trainable params: </span><span style=\"color: #00af00; text-decoration-color: #00af00\">31,753</span> (124.04 KB)\n",
       "</pre>\n"
      ],
      "text/plain": [
       "\u001b[1m Trainable params: \u001b[0m\u001b[38;5;34m31,753\u001b[0m (124.04 KB)\n"
      ]
     },
     "metadata": {},
     "output_type": "display_data"
    },
    {
     "data": {
      "text/html": [
       "<pre style=\"white-space:pre;overflow-x:auto;line-height:normal;font-family:Menlo,'DejaVu Sans Mono',consolas,'Courier New',monospace\"><span style=\"font-weight: bold\"> Non-trainable params: </span><span style=\"color: #00af00; text-decoration-color: #00af00\">0</span> (0.00 B)\n",
       "</pre>\n"
      ],
      "text/plain": [
       "\u001b[1m Non-trainable params: \u001b[0m\u001b[38;5;34m0\u001b[0m (0.00 B)\n"
      ]
     },
     "metadata": {},
     "output_type": "display_data"
    }
   ],
   "source": [
    "from tensorflow.keras.models import Sequential\n",
    "from tensorflow.keras.layers import LSTM, Dense\n",
    "\n",
    "# Số lượng features (accel_x, ay, az, gx, gy, gz)\n",
    "FEATURES = X_train.shape[2]\n",
    "# Số lượng lớp (ỔN ĐỊNH, NGHIÊNG NGUY HIỂM, RUNG MẠNH)\n",
    "NUM_CLASSES = y_train.shape[1]\n",
    "\n",
    "# Xây dựng mô hình LSTM\n",
    "model = Sequential([\n",
    "    LSTM(units=50, activation='relu', input_shape=(WINDOW_SIZE, FEATURES), return_sequences=True),\n",
    "    LSTM(units=50, activation='relu'),\n",
    "    Dense(units=NUM_CLASSES, activation='softmax')\n",
    "])\n",
    "\n",
    "# Compile mô hình\n",
    "model.compile(optimizer='adam', loss='categorical_crossentropy', metrics=['accuracy'])\n",
    "\n",
    "# In tóm tắt mô hình\n",
    "model.summary()"
   ]
  },
  {
   "cell_type": "code",
   "execution_count": 18,
   "metadata": {},
   "outputs": [
    {
     "name": "stdout",
     "output_type": "stream",
     "text": [
      "Epoch 1/20\n",
      "\u001b[1m122/122\u001b[0m \u001b[32m━━━━━━━━━━━━━━━━━━━━\u001b[0m\u001b[37m\u001b[0m \u001b[1m6s\u001b[0m 29ms/step - accuracy: 0.7141 - loss: 0.7661 - val_accuracy: 0.9640 - val_loss: 0.1171\n",
      "Epoch 2/20\n",
      "\u001b[1m122/122\u001b[0m \u001b[32m━━━━━━━━━━━━━━━━━━━━\u001b[0m\u001b[37m\u001b[0m \u001b[1m4s\u001b[0m 30ms/step - accuracy: 0.9768 - loss: 0.1004 - val_accuracy: 0.6549 - val_loss: 0.4612\n",
      "Epoch 3/20\n",
      "\u001b[1m122/122\u001b[0m \u001b[32m━━━━━━━━━━━━━━━━━━━━\u001b[0m\u001b[37m\u001b[0m \u001b[1m4s\u001b[0m 30ms/step - accuracy: 0.8765 - loss: 0.4223 - val_accuracy: 0.9815 - val_loss: 0.0642\n",
      "Epoch 4/20\n",
      "\u001b[1m122/122\u001b[0m \u001b[32m━━━━━━━━━━━━━━━━━━━━\u001b[0m\u001b[37m\u001b[0m \u001b[1m4s\u001b[0m 30ms/step - accuracy: 0.9812 - loss: 0.0739 - val_accuracy: 0.9892 - val_loss: 0.0567\n",
      "Epoch 5/20\n",
      "\u001b[1m122/122\u001b[0m \u001b[32m━━━━━━━━━━━━━━━━━━━━\u001b[0m\u001b[37m\u001b[0m \u001b[1m4s\u001b[0m 30ms/step - accuracy: 0.9822 - loss: 0.0733 - val_accuracy: 0.9887 - val_loss: 0.0459\n",
      "Epoch 6/20\n",
      "\u001b[1m122/122\u001b[0m \u001b[32m━━━━━━━━━━━━━━━━━━━━\u001b[0m\u001b[37m\u001b[0m \u001b[1m4s\u001b[0m 30ms/step - accuracy: 0.9858 - loss: 0.0586 - val_accuracy: 0.9872 - val_loss: 0.0396\n",
      "Epoch 7/20\n",
      "\u001b[1m122/122\u001b[0m \u001b[32m━━━━━━━━━━━━━━━━━━━━\u001b[0m\u001b[37m\u001b[0m \u001b[1m4s\u001b[0m 30ms/step - accuracy: 0.9871 - loss: 0.0506 - val_accuracy: 0.9851 - val_loss: 0.0553\n",
      "Epoch 8/20\n",
      "\u001b[1m122/122\u001b[0m \u001b[32m━━━━━━━━━━━━━━━━━━━━\u001b[0m\u001b[37m\u001b[0m \u001b[1m4s\u001b[0m 30ms/step - accuracy: 0.9895 - loss: 0.0403 - val_accuracy: 0.9800 - val_loss: 0.0835\n",
      "Epoch 9/20\n",
      "\u001b[1m122/122\u001b[0m \u001b[32m━━━━━━━━━━━━━━━━━━━━\u001b[0m\u001b[37m\u001b[0m \u001b[1m4s\u001b[0m 30ms/step - accuracy: 0.9889 - loss: 0.0421 - val_accuracy: 0.9872 - val_loss: 0.0613\n",
      "Epoch 10/20\n",
      "\u001b[1m122/122\u001b[0m \u001b[32m━━━━━━━━━━━━━━━━━━━━\u001b[0m\u001b[37m\u001b[0m \u001b[1m4s\u001b[0m 30ms/step - accuracy: 0.9873 - loss: 0.0535 - val_accuracy: 0.9938 - val_loss: 0.0320\n",
      "Epoch 11/20\n",
      "\u001b[1m122/122\u001b[0m \u001b[32m━━━━━━━━━━━━━━━━━━━━\u001b[0m\u001b[37m\u001b[0m \u001b[1m4s\u001b[0m 30ms/step - accuracy: 0.9900 - loss: 0.0406 - val_accuracy: 0.9928 - val_loss: 0.0287\n",
      "Epoch 12/20\n",
      "\u001b[1m122/122\u001b[0m \u001b[32m━━━━━━━━━━━━━━━━━━━━\u001b[0m\u001b[37m\u001b[0m \u001b[1m4s\u001b[0m 30ms/step - accuracy: 0.9914 - loss: 0.0359 - val_accuracy: 0.9512 - val_loss: 0.2746\n",
      "Epoch 13/20\n",
      "\u001b[1m122/122\u001b[0m \u001b[32m━━━━━━━━━━━━━━━━━━━━\u001b[0m\u001b[37m\u001b[0m \u001b[1m4s\u001b[0m 30ms/step - accuracy: 0.9811 - loss: 0.0806 - val_accuracy: 0.9944 - val_loss: 0.0502\n",
      "Epoch 14/20\n",
      "\u001b[1m122/122\u001b[0m \u001b[32m━━━━━━━━━━━━━━━━━━━━\u001b[0m\u001b[37m\u001b[0m \u001b[1m4s\u001b[0m 30ms/step - accuracy: 0.9884 - loss: 0.0490 - val_accuracy: 0.9908 - val_loss: 0.0325\n",
      "Epoch 15/20\n",
      "\u001b[1m122/122\u001b[0m \u001b[32m━━━━━━━━━━━━━━━━━━━━\u001b[0m\u001b[37m\u001b[0m \u001b[1m4s\u001b[0m 30ms/step - accuracy: 0.9893 - loss: 0.0449 - val_accuracy: 0.9918 - val_loss: 0.0307\n",
      "Epoch 16/20\n",
      "\u001b[1m122/122\u001b[0m \u001b[32m━━━━━━━━━━━━━━━━━━━━\u001b[0m\u001b[37m\u001b[0m \u001b[1m4s\u001b[0m 30ms/step - accuracy: 0.9923 - loss: 0.0309 - val_accuracy: 0.9944 - val_loss: 0.0231\n",
      "Epoch 17/20\n",
      "\u001b[1m122/122\u001b[0m \u001b[32m━━━━━━━━━━━━━━━━━━━━\u001b[0m\u001b[37m\u001b[0m \u001b[1m4s\u001b[0m 30ms/step - accuracy: 0.9881 - loss: 0.0424 - val_accuracy: 0.9933 - val_loss: 0.0213\n",
      "Epoch 18/20\n",
      "\u001b[1m122/122\u001b[0m \u001b[32m━━━━━━━━━━━━━━━━━━━━\u001b[0m\u001b[37m\u001b[0m \u001b[1m4s\u001b[0m 30ms/step - accuracy: 0.9910 - loss: 0.0377 - val_accuracy: 0.9913 - val_loss: 0.0342\n",
      "Epoch 19/20\n",
      "\u001b[1m122/122\u001b[0m \u001b[32m━━━━━━━━━━━━━━━━━━━━\u001b[0m\u001b[37m\u001b[0m \u001b[1m4s\u001b[0m 30ms/step - accuracy: 0.9766 - loss: 0.1011 - val_accuracy: 0.9913 - val_loss: 0.1137\n",
      "Epoch 20/20\n",
      "\u001b[1m122/122\u001b[0m \u001b[32m━━━━━━━━━━━━━━━━━━━━\u001b[0m\u001b[37m\u001b[0m \u001b[1m4s\u001b[0m 30ms/step - accuracy: 0.9871 - loss: 0.0568 - val_accuracy: 0.9882 - val_loss: 0.0375\n"
     ]
    }
   ],
   "source": [
    "EPOCHS = 20\n",
    "BATCH_SIZE = 64\n",
    "\n",
    "history = model.fit(\n",
    "    X_train, y_train,\n",
    "    epochs=EPOCHS,\n",
    "    batch_size=BATCH_SIZE,\n",
    "    validation_data=(X_test, y_test),\n",
    "    verbose=1\n",
    ")"
   ]
  },
  {
   "cell_type": "code",
   "execution_count": 19,
   "metadata": {
    "scrolled": true
   },
   "outputs": [
    {
     "name": "stdout",
     "output_type": "stream",
     "text": [
      "Loss trên tập kiểm tra: 0.0375\n",
      "Độ chính xác trên tập kiểm tra: 0.9882\n",
      "\u001b[1m61/61\u001b[0m \u001b[32m━━━━━━━━━━━━━━━━━━━━\u001b[0m\u001b[37m\u001b[0m \u001b[1m1s\u001b[0m 10ms/step\n",
      "\n",
      "Classification Report:\n",
      "                   precision    recall  f1-score   support\n",
      "\n",
      "DANGEROUS TIPPING       0.99      0.97      0.98       631\n",
      "           STABLE       0.98      1.00      0.99       650\n",
      " STRONG VIBRATION       1.00      0.99      1.00       666\n",
      "\n",
      "         accuracy                           0.99      1947\n",
      "        macro avg       0.99      0.99      0.99      1947\n",
      "     weighted avg       0.99      0.99      0.99      1947\n",
      "\n"
     ]
    },
    {
     "data": {
      "image/png": "[encoded data removed]",
      "text/plain": [
       "<Figure size 800x600 with 2 Axes>"
      ]
     },
     "metadata": {},
     "output_type": "display_data"
    }
   ],
   "source": [
    "from sklearn.metrics import classification_report, confusion_matrix\n",
    "import matplotlib.pyplot as plt\n",
    "import seaborn as sns\n",
    "\n",
    "# Đánh giá mô hình trên tập kiểm tra\n",
    "loss, accuracy = model.evaluate(X_test, y_test, verbose=0)\n",
    "print(f\"Loss trên tập kiểm tra: {loss:.4f}\")\n",
    "print(f\"Độ chính xác trên tập kiểm tra: {accuracy:.4f}\")\n",
    "\n",
    "# Dự đoán nhãn trên tập kiểm tra\n",
    "y_pred_probs = model.predict(X_test)\n",
    "y_pred = np.argmax(y_pred_probs, axis=1)\n",
    "y_true = np.argmax(y_test, axis=1)\n",
    "\n",
    "# Chuyển đổi nhãn số trở lại dạng chuỗi để hiển thị trong classification report và confusion matrix\n",
    "y_pred_labels = label_encoder.inverse_transform(y_pred)\n",
    "y_true_labels = label_encoder.inverse_transform(y_true)\n",
    "\n",
    "# In Classification Report\n",
    "print(\"\\nClassification Report:\")\n",
    "print(classification_report(y_true_labels, y_pred_labels))\n",
    "\n",
    "# Vẽ Confusion Matrix\n",
    "cm = confusion_matrix(y_true_labels, y_pred_labels, labels=label_encoder.classes_)\n",
    "plt.figure(figsize=(8, 6))\n",
    "sns.heatmap(cm, annot=True, fmt='d', cmap='Blues', xticklabels=label_encoder.classes_, yticklabels=label_encoder.classes_)\n",
    "plt.title('Confusion Matrix')\n",
    "plt.xlabel('Predicted Label')\n",
    "plt.ylabel('True Label')\n",
    "plt.show()"
   ]
  },
  {
   "cell_type": "code",
   "execution_count": 20,
   "metadata": {},
   "outputs": [
    {
     "name": "stderr",
     "output_type": "stream",
     "text": [
      "WARNING:absl:You are saving your model as an HDF5 file via `model.save()` or `keras.saving.save_model(model)`. This file format is considered legacy. We recommend using instead the native Keras format, e.g. `model.save('my_model.keras')` or `keras.saving.save_model(model, 'my_model.keras')`. \n"
     ]
    },
    {
     "name": "stdout",
     "output_type": "stream",
     "text": [
      "Mô hình đã được lưu tại models/lstm_model.h5\n"
     ]
    }
   ],
   "source": [
    "model.save('models/lstm_model.h5')\n",
    "print(\"Mô hình đã được lưu tại models/lstm_model.h5\")"
   ]
  },
  {
   "cell_type": "code",
   "execution_count": null,
   "metadata": {},
   "outputs": [],
   "source": []
  }
 ],
 "metadata": {
  "kernelspec": {
   "display_name": "Python 3 (ipykernel)",
   "language": "python",
   "name": "python3"
  },
  "language_info": {
   "codemirror_mode": {
    "name": "ipython",
    "version": 3
   },
   "file_extension": ".py",
   "mimetype": "text/x-python",
   "name": "python",
   "nbconvert_exporter": "python",
   "pygments_lexer": "ipython3",
   "version": "3.11.2"
  }
 },
 "nbformat": 4,
 "nbformat_minor": 4
}
